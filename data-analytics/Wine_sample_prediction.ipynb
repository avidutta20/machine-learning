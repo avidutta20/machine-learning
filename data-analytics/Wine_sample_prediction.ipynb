{
  "nbformat": 4,
  "nbformat_minor": 0,
  "metadata": {
    "colab": {
      "name": "Wine_sample_prediction.ipynb",
      "provenance": [],
      "toc_visible": true
    },
    "kernelspec": {
      "name": "python3",
      "display_name": "Python 3"
    }
  },
  "cells": [
    {
      "cell_type": "markdown",
      "metadata": {
        "id": "Ws5R-2SvCR5Z"
      },
      "source": [
        "# **Using different ML Classifiers to Predict Quality of Wine Sample**\n"
      ]
    },
    {
      "cell_type": "markdown",
      "metadata": {
        "id": "FQ6n34uXDII6"
      },
      "source": [
        "##Classifiers Used\n",
        "\n",
        "*   Random Forest Classifier\n",
        "*   Support Vector Classifier\n",
        "*   Stochastic Gradient Descent Classifier\n",
        "\n",
        "##Model Verification\n",
        "*   Accuracy\n",
        "*   F1 Score\n",
        "\n",
        "# Skills\n",
        "* ### Statistical Analysis\n",
        "* ### Unsupervised Learning\n",
        "* ### Predictive Analysis\n",
        "\n",
        "* ### Programming\n",
        "*   **Language :**   Python\n",
        "*   **Libraries:** \n",
        "   * Scikit-learn\n",
        "   * matplotlib\n",
        "   * seaborn\n",
        "   * pandas\n",
        "   * numpy\n"
      ]
    },
    {
      "cell_type": "code",
      "metadata": {
        "id": "9WyJtFjCHXLb"
      },
      "source": [
        "# import libraries\n",
        "\n",
        "import numpy as np\n",
        "import pandas as pd\n",
        "\n",
        "# Data Processing\n",
        "from sklearn.preprocessing import StandardScaler, LabelEncoder\n",
        "from sklearn.model_selection import train_test_split, GridSearchCV, cross_val_score\n",
        "\n",
        "# Classifiers\n",
        "from sklearn.ensemble import RandomForestClassifier\n",
        "from sklearn.svm import SVC\n",
        "from sklearn.linear_model import SGDClassifier\n",
        "\n",
        "# Metrics\n",
        "from sklearn.metrics import confusion_matrix, classification_report\n",
        "\n",
        "# Visualisation\n",
        "import matplotlib.pyplot as plt\n",
        "import seaborn as sns\n"
      ],
      "execution_count": null,
      "outputs": []
    },
    {
      "cell_type": "code",
      "metadata": {
        "colab": {
          "base_uri": "https://localhost:8080/",
          "height": 393
        },
        "id": "7XU2xkN3JdKN",
        "outputId": "efae37cc-448d-48c1-b7db-65ea27d7b2ec"
      },
      "source": [
        "# Loading Data\n",
        "\n",
        "wine_data = pd.read_csv('/content/winequality-red.csv')\n",
        "wine_data.head(10)"
      ],
      "execution_count": null,
      "outputs": [
        {
          "output_type": "execute_result",
          "data": {
            "text/html": [
              "<div>\n",
              "<style scoped>\n",
              "    .dataframe tbody tr th:only-of-type {\n",
              "        vertical-align: middle;\n",
              "    }\n",
              "\n",
              "    .dataframe tbody tr th {\n",
              "        vertical-align: top;\n",
              "    }\n",
              "\n",
              "    .dataframe thead th {\n",
              "        text-align: right;\n",
              "    }\n",
              "</style>\n",
              "<table border=\"1\" class=\"dataframe\">\n",
              "  <thead>\n",
              "    <tr style=\"text-align: right;\">\n",
              "      <th></th>\n",
              "      <th>fixed acidity</th>\n",
              "      <th>volatile acidity</th>\n",
              "      <th>citric acid</th>\n",
              "      <th>residual sugar</th>\n",
              "      <th>chlorides</th>\n",
              "      <th>free sulfur dioxide</th>\n",
              "      <th>total sulfur dioxide</th>\n",
              "      <th>density</th>\n",
              "      <th>pH</th>\n",
              "      <th>sulphates</th>\n",
              "      <th>alcohol</th>\n",
              "      <th>quality</th>\n",
              "    </tr>\n",
              "  </thead>\n",
              "  <tbody>\n",
              "    <tr>\n",
              "      <th>0</th>\n",
              "      <td>7.4</td>\n",
              "      <td>0.70</td>\n",
              "      <td>0.00</td>\n",
              "      <td>1.9</td>\n",
              "      <td>0.076</td>\n",
              "      <td>11.0</td>\n",
              "      <td>34.0</td>\n",
              "      <td>0.9978</td>\n",
              "      <td>3.51</td>\n",
              "      <td>0.56</td>\n",
              "      <td>9.4</td>\n",
              "      <td>5</td>\n",
              "    </tr>\n",
              "    <tr>\n",
              "      <th>1</th>\n",
              "      <td>7.8</td>\n",
              "      <td>0.88</td>\n",
              "      <td>0.00</td>\n",
              "      <td>2.6</td>\n",
              "      <td>0.098</td>\n",
              "      <td>25.0</td>\n",
              "      <td>67.0</td>\n",
              "      <td>0.9968</td>\n",
              "      <td>3.20</td>\n",
              "      <td>0.68</td>\n",
              "      <td>9.8</td>\n",
              "      <td>5</td>\n",
              "    </tr>\n",
              "    <tr>\n",
              "      <th>2</th>\n",
              "      <td>7.8</td>\n",
              "      <td>0.76</td>\n",
              "      <td>0.04</td>\n",
              "      <td>2.3</td>\n",
              "      <td>0.092</td>\n",
              "      <td>15.0</td>\n",
              "      <td>54.0</td>\n",
              "      <td>0.9970</td>\n",
              "      <td>3.26</td>\n",
              "      <td>0.65</td>\n",
              "      <td>9.8</td>\n",
              "      <td>5</td>\n",
              "    </tr>\n",
              "    <tr>\n",
              "      <th>3</th>\n",
              "      <td>11.2</td>\n",
              "      <td>0.28</td>\n",
              "      <td>0.56</td>\n",
              "      <td>1.9</td>\n",
              "      <td>0.075</td>\n",
              "      <td>17.0</td>\n",
              "      <td>60.0</td>\n",
              "      <td>0.9980</td>\n",
              "      <td>3.16</td>\n",
              "      <td>0.58</td>\n",
              "      <td>9.8</td>\n",
              "      <td>6</td>\n",
              "    </tr>\n",
              "    <tr>\n",
              "      <th>4</th>\n",
              "      <td>7.4</td>\n",
              "      <td>0.70</td>\n",
              "      <td>0.00</td>\n",
              "      <td>1.9</td>\n",
              "      <td>0.076</td>\n",
              "      <td>11.0</td>\n",
              "      <td>34.0</td>\n",
              "      <td>0.9978</td>\n",
              "      <td>3.51</td>\n",
              "      <td>0.56</td>\n",
              "      <td>9.4</td>\n",
              "      <td>5</td>\n",
              "    </tr>\n",
              "    <tr>\n",
              "      <th>5</th>\n",
              "      <td>7.4</td>\n",
              "      <td>0.66</td>\n",
              "      <td>0.00</td>\n",
              "      <td>1.8</td>\n",
              "      <td>0.075</td>\n",
              "      <td>13.0</td>\n",
              "      <td>40.0</td>\n",
              "      <td>0.9978</td>\n",
              "      <td>3.51</td>\n",
              "      <td>0.56</td>\n",
              "      <td>9.4</td>\n",
              "      <td>5</td>\n",
              "    </tr>\n",
              "    <tr>\n",
              "      <th>6</th>\n",
              "      <td>7.9</td>\n",
              "      <td>0.60</td>\n",
              "      <td>0.06</td>\n",
              "      <td>1.6</td>\n",
              "      <td>0.069</td>\n",
              "      <td>15.0</td>\n",
              "      <td>59.0</td>\n",
              "      <td>0.9964</td>\n",
              "      <td>3.30</td>\n",
              "      <td>0.46</td>\n",
              "      <td>9.4</td>\n",
              "      <td>5</td>\n",
              "    </tr>\n",
              "    <tr>\n",
              "      <th>7</th>\n",
              "      <td>7.3</td>\n",
              "      <td>0.65</td>\n",
              "      <td>0.00</td>\n",
              "      <td>1.2</td>\n",
              "      <td>0.065</td>\n",
              "      <td>15.0</td>\n",
              "      <td>21.0</td>\n",
              "      <td>0.9946</td>\n",
              "      <td>3.39</td>\n",
              "      <td>0.47</td>\n",
              "      <td>10.0</td>\n",
              "      <td>7</td>\n",
              "    </tr>\n",
              "    <tr>\n",
              "      <th>8</th>\n",
              "      <td>7.8</td>\n",
              "      <td>0.58</td>\n",
              "      <td>0.02</td>\n",
              "      <td>2.0</td>\n",
              "      <td>0.073</td>\n",
              "      <td>9.0</td>\n",
              "      <td>18.0</td>\n",
              "      <td>0.9968</td>\n",
              "      <td>3.36</td>\n",
              "      <td>0.57</td>\n",
              "      <td>9.5</td>\n",
              "      <td>7</td>\n",
              "    </tr>\n",
              "    <tr>\n",
              "      <th>9</th>\n",
              "      <td>7.5</td>\n",
              "      <td>0.50</td>\n",
              "      <td>0.36</td>\n",
              "      <td>6.1</td>\n",
              "      <td>0.071</td>\n",
              "      <td>17.0</td>\n",
              "      <td>102.0</td>\n",
              "      <td>0.9978</td>\n",
              "      <td>3.35</td>\n",
              "      <td>0.80</td>\n",
              "      <td>10.5</td>\n",
              "      <td>5</td>\n",
              "    </tr>\n",
              "  </tbody>\n",
              "</table>\n",
              "</div>"
            ],
            "text/plain": [
              "   fixed acidity  volatile acidity  citric acid  ...  sulphates  alcohol  quality\n",
              "0            7.4              0.70         0.00  ...       0.56      9.4        5\n",
              "1            7.8              0.88         0.00  ...       0.68      9.8        5\n",
              "2            7.8              0.76         0.04  ...       0.65      9.8        5\n",
              "3           11.2              0.28         0.56  ...       0.58      9.8        6\n",
              "4            7.4              0.70         0.00  ...       0.56      9.4        5\n",
              "5            7.4              0.66         0.00  ...       0.56      9.4        5\n",
              "6            7.9              0.60         0.06  ...       0.46      9.4        5\n",
              "7            7.3              0.65         0.00  ...       0.47     10.0        7\n",
              "8            7.8              0.58         0.02  ...       0.57      9.5        7\n",
              "9            7.5              0.50         0.36  ...       0.80     10.5        5\n",
              "\n",
              "[10 rows x 12 columns]"
            ]
          },
          "metadata": {
            "tags": []
          },
          "execution_count": 84
        }
      ]
    },
    {
      "cell_type": "code",
      "metadata": {
        "colab": {
          "base_uri": "https://localhost:8080/"
        },
        "id": "-GYbQJzFMO_X",
        "outputId": "60dff25a-7902-4e40-8d24-39978a1a5a86"
      },
      "source": [
        "#Information about the data columns\n",
        "wine_data.info()"
      ],
      "execution_count": null,
      "outputs": [
        {
          "output_type": "stream",
          "text": [
            "<class 'pandas.core.frame.DataFrame'>\n",
            "RangeIndex: 1599 entries, 0 to 1598\n",
            "Data columns (total 12 columns):\n",
            " #   Column                Non-Null Count  Dtype  \n",
            "---  ------                --------------  -----  \n",
            " 0   fixed acidity         1599 non-null   float64\n",
            " 1   volatile acidity      1599 non-null   float64\n",
            " 2   citric acid           1599 non-null   float64\n",
            " 3   residual sugar        1599 non-null   float64\n",
            " 4   chlorides             1599 non-null   float64\n",
            " 5   free sulfur dioxide   1599 non-null   float64\n",
            " 6   total sulfur dioxide  1599 non-null   float64\n",
            " 7   density               1599 non-null   float64\n",
            " 8   pH                    1599 non-null   float64\n",
            " 9   sulphates             1599 non-null   float64\n",
            " 10  alcohol               1599 non-null   float64\n",
            " 11  quality               1599 non-null   int64  \n",
            "dtypes: float64(11), int64(1)\n",
            "memory usage: 150.0 KB\n"
          ],
          "name": "stdout"
        }
      ]
    },
    {
      "cell_type": "markdown",
      "metadata": {
        "id": "grRoJKIKPiWo"
      },
      "source": [
        "*Target: To predict the quality of wine*\n",
        "\n",
        "**Target column: quality**\n",
        "\n",
        "Let's view how each column varies with the target column i.e quality"
      ]
    },
    {
      "cell_type": "code",
      "metadata": {
        "id": "zlfkzzrGDkLJ"
      },
      "source": [
        "# Separating Train and Test Data\n",
        "wine_train, wine_test = train_test_split(wine_data, test_size = 0.2, random_state = 42)\n",
        "\n",
        "\n",
        "wine_train_x = wine_train.iloc[:,:-1]         #Droping the target column i.e 'Quality' from Train\n",
        "wine_train_y = wine_train.iloc[:,11]          #Only the target column\n",
        "\n",
        "wine_test_x = wine_test.iloc[:,:-1]           #Droping the target column i.e 'Quality' from Test\n",
        "wine_test_y = wine_test.iloc[:,11]            #Only the target column"
      ],
      "execution_count": null,
      "outputs": []
    },
    {
      "cell_type": "code",
      "metadata": {
        "colab": {
          "base_uri": "https://localhost:8080/",
          "height": 238
        },
        "id": "NeYcexSgFM0d",
        "outputId": "2381a9cc-b4c5-4be5-aba3-51ecdf63f188"
      },
      "source": [
        "wine_train_x.head(5)"
      ],
      "execution_count": null,
      "outputs": [
        {
          "output_type": "execute_result",
          "data": {
            "text/html": [
              "<div>\n",
              "<style scoped>\n",
              "    .dataframe tbody tr th:only-of-type {\n",
              "        vertical-align: middle;\n",
              "    }\n",
              "\n",
              "    .dataframe tbody tr th {\n",
              "        vertical-align: top;\n",
              "    }\n",
              "\n",
              "    .dataframe thead th {\n",
              "        text-align: right;\n",
              "    }\n",
              "</style>\n",
              "<table border=\"1\" class=\"dataframe\">\n",
              "  <thead>\n",
              "    <tr style=\"text-align: right;\">\n",
              "      <th></th>\n",
              "      <th>fixed acidity</th>\n",
              "      <th>volatile acidity</th>\n",
              "      <th>citric acid</th>\n",
              "      <th>residual sugar</th>\n",
              "      <th>chlorides</th>\n",
              "      <th>free sulfur dioxide</th>\n",
              "      <th>total sulfur dioxide</th>\n",
              "      <th>density</th>\n",
              "      <th>pH</th>\n",
              "      <th>sulphates</th>\n",
              "      <th>alcohol</th>\n",
              "    </tr>\n",
              "  </thead>\n",
              "  <tbody>\n",
              "    <tr>\n",
              "      <th>493</th>\n",
              "      <td>8.7</td>\n",
              "      <td>0.690</td>\n",
              "      <td>0.31</td>\n",
              "      <td>3.0</td>\n",
              "      <td>0.086</td>\n",
              "      <td>23.0</td>\n",
              "      <td>81.0</td>\n",
              "      <td>1.00020</td>\n",
              "      <td>3.48</td>\n",
              "      <td>0.74</td>\n",
              "      <td>11.6</td>\n",
              "    </tr>\n",
              "    <tr>\n",
              "      <th>354</th>\n",
              "      <td>6.1</td>\n",
              "      <td>0.210</td>\n",
              "      <td>0.40</td>\n",
              "      <td>1.4</td>\n",
              "      <td>0.066</td>\n",
              "      <td>40.5</td>\n",
              "      <td>165.0</td>\n",
              "      <td>0.99120</td>\n",
              "      <td>3.25</td>\n",
              "      <td>0.59</td>\n",
              "      <td>11.9</td>\n",
              "    </tr>\n",
              "    <tr>\n",
              "      <th>342</th>\n",
              "      <td>10.9</td>\n",
              "      <td>0.390</td>\n",
              "      <td>0.47</td>\n",
              "      <td>1.8</td>\n",
              "      <td>0.118</td>\n",
              "      <td>6.0</td>\n",
              "      <td>14.0</td>\n",
              "      <td>0.99820</td>\n",
              "      <td>3.30</td>\n",
              "      <td>0.75</td>\n",
              "      <td>9.8</td>\n",
              "    </tr>\n",
              "    <tr>\n",
              "      <th>834</th>\n",
              "      <td>8.8</td>\n",
              "      <td>0.685</td>\n",
              "      <td>0.26</td>\n",
              "      <td>1.6</td>\n",
              "      <td>0.088</td>\n",
              "      <td>16.0</td>\n",
              "      <td>23.0</td>\n",
              "      <td>0.99694</td>\n",
              "      <td>3.32</td>\n",
              "      <td>0.47</td>\n",
              "      <td>9.4</td>\n",
              "    </tr>\n",
              "    <tr>\n",
              "      <th>705</th>\n",
              "      <td>8.4</td>\n",
              "      <td>1.035</td>\n",
              "      <td>0.15</td>\n",
              "      <td>6.0</td>\n",
              "      <td>0.073</td>\n",
              "      <td>11.0</td>\n",
              "      <td>54.0</td>\n",
              "      <td>0.99900</td>\n",
              "      <td>3.37</td>\n",
              "      <td>0.49</td>\n",
              "      <td>9.9</td>\n",
              "    </tr>\n",
              "  </tbody>\n",
              "</table>\n",
              "</div>"
            ],
            "text/plain": [
              "     fixed acidity  volatile acidity  citric acid  ...    pH  sulphates  alcohol\n",
              "493            8.7             0.690         0.31  ...  3.48       0.74     11.6\n",
              "354            6.1             0.210         0.40  ...  3.25       0.59     11.9\n",
              "342           10.9             0.390         0.47  ...  3.30       0.75      9.8\n",
              "834            8.8             0.685         0.26  ...  3.32       0.47      9.4\n",
              "705            8.4             1.035         0.15  ...  3.37       0.49      9.9\n",
              "\n",
              "[5 rows x 11 columns]"
            ]
          },
          "metadata": {
            "tags": []
          },
          "execution_count": 87
        }
      ]
    },
    {
      "cell_type": "code",
      "metadata": {
        "colab": {
          "base_uri": "https://localhost:8080/"
        },
        "id": "0TpR69QYFam1",
        "outputId": "bdbb4b5f-8fc5-4d3f-8104-f439491a0984"
      },
      "source": [
        "wine_train.columns"
      ],
      "execution_count": null,
      "outputs": [
        {
          "output_type": "execute_result",
          "data": {
            "text/plain": [
              "Index(['fixed acidity', 'volatile acidity', 'citric acid', 'residual sugar',\n",
              "       'chlorides', 'free sulfur dioxide', 'total sulfur dioxide', 'density',\n",
              "       'pH', 'sulphates', 'alcohol', 'quality'],\n",
              "      dtype='object')"
            ]
          },
          "metadata": {
            "tags": []
          },
          "execution_count": 88
        }
      ]
    },
    {
      "cell_type": "markdown",
      "metadata": {
        "id": "SYJdJRxeBqtD"
      },
      "source": [
        "# Exploratory Data Analysis on Train Data"
      ]
    },
    {
      "cell_type": "code",
      "metadata": {
        "colab": {
          "base_uri": "https://localhost:8080/",
          "height": 405
        },
        "id": "2mSUKJ7dOqCT",
        "outputId": "4de811b4-e45b-4892-fbf1-b03ee849c799"
      },
      "source": [
        "fig = plt.figure(figsize = (12,6))\n",
        "plt.subplot(3, 1,1)\n",
        "sns.barplot(x = 'quality', y = 'fixed acidity', data = wine_train)\n",
        "plt.subplot(3, 1,2)\n",
        "sns.barplot(x = 'quality', y = 'volatile acidity', data = wine_train)\n",
        "plt.subplot(3, 1,3)\n",
        "sns.barplot(x = 'quality', y = 'citric acid', data = wine_train)"
      ],
      "execution_count": null,
      "outputs": [
        {
          "output_type": "execute_result",
          "data": {
            "text/plain": [
              "<matplotlib.axes._subplots.AxesSubplot at 0x7feaca6577b8>"
            ]
          },
          "metadata": {
            "tags": []
          },
          "execution_count": 89
        },
        {
          "output_type": "display_data",
          "data": {
            "image/png": "[encoded data removed]",
            "text/plain": [
              "<Figure size 864x432 with 3 Axes>"
            ]
          },
          "metadata": {
            "tags": [],
            "needs_background": "light"
          }
        }
      ]
    },
    {
      "cell_type": "code",
      "metadata": {
        "colab": {
          "base_uri": "https://localhost:8080/",
          "height": 949
        },
        "id": "C3V2FFPZ-hWg",
        "outputId": "13f086ad-876d-426c-c618-96181e39ae89"
      },
      "source": [
        "fig1 = plt.figure(figsize = (12,16))\n",
        "plt.subplot(4,1,1)\n",
        "sns.boxplot(x = 'quality', y = 'alcohol',data = wine_train)\n",
        "\n",
        "plt.subplot(4,1,2)\n",
        "sns.boxplot(x = 'quality', y = 'volatile acidity',data = wine_train)\n",
        "\n",
        "plt.subplot(4,1,3)\n",
        "sns.boxplot(x = 'quality', y = 'citric acid',data = wine_train)\n",
        "\n",
        "plt.subplot(4,1,4)\n",
        "sns.boxplot(x = 'quality', y = 'residual sugar',data = wine_train)"
      ],
      "execution_count": null,
      "outputs": [
        {
          "output_type": "execute_result",
          "data": {
            "text/plain": [
              "<matplotlib.axes._subplots.AxesSubplot at 0x7feac948bb00>"
            ]
          },
          "metadata": {
            "tags": []
          },
          "execution_count": 90
        },
        {
          "output_type": "display_data",
          "data": {
            "image/png": "[encoded data removed]",
            "text/plain": [
              "<Figure size 864x1152 with 4 Axes>"
            ]
          },
          "metadata": {
            "tags": [],
            "needs_background": "light"
          }
        }
      ]
    },
    {
      "cell_type": "code",
      "metadata": {
        "colab": {
          "base_uri": "https://localhost:8080/",
          "height": 949
        },
        "id": "6C7xFcEXVERq",
        "outputId": "dd6a22ba-9c5b-46d1-a48e-5fbe24ffff06"
      },
      "source": [
        "fig2 = plt.figure(figsize = (12,16))\n",
        "plt.subplot(4,1,1)\n",
        "sns.boxplot(x = 'quality', y = 'chlorides',data = wine_train)\n",
        "\n",
        "plt.subplot(4,1,2)\n",
        "sns.boxplot(x = 'quality', y =  'free sulfur dioxide',data = wine_train)\n",
        "\n",
        "plt.subplot(4,1,3)\n",
        "sns.boxplot(x = 'quality', y = 'total sulfur dioxide',data = wine_train)\n",
        "\n",
        "plt.subplot(4,1,4)\n",
        "sns.boxplot(x = 'quality', y = 'density',data = wine_train)"
      ],
      "execution_count": null,
      "outputs": [
        {
          "output_type": "execute_result",
          "data": {
            "text/plain": [
              "<matplotlib.axes._subplots.AxesSubplot at 0x7feac914c668>"
            ]
          },
          "metadata": {
            "tags": []
          },
          "execution_count": 91
        },
        {
          "output_type": "display_data",
          "data": {
            "image/png": "[encoded data removed]",
            "text/plain": [
              "<Figure size 864x1152 with 4 Axes>"
            ]
          },
          "metadata": {
            "tags": [],
            "needs_background": "light"
          }
        }
      ]
    },
    {
      "cell_type": "code",
      "metadata": {
        "colab": {
          "base_uri": "https://localhost:8080/",
          "height": 949
        },
        "id": "PNAmIA7QSEdr",
        "outputId": "ebda4905-4bc7-491e-f887-973ef59c5910"
      },
      "source": [
        "fig3 = plt.figure(figsize = (12,16))\n",
        "plt.subplot(3,1,1)\n",
        "sns.boxplot(x = 'quality', y = 'pH',data = wine_train)\n",
        "\n",
        "plt.subplot(3,1,2)\n",
        "sns.boxplot(x = 'quality', y =  'sulphates',data = wine_train)\n",
        "\n",
        "plt.subplot(3,1,3)\n",
        "sns.boxplot(x = 'quality', y = 'alcohol',data = wine_train)"
      ],
      "execution_count": null,
      "outputs": [
        {
          "output_type": "execute_result",
          "data": {
            "text/plain": [
              "<matplotlib.axes._subplots.AxesSubplot at 0x7feac8ed6c18>"
            ]
          },
          "metadata": {
            "tags": []
          },
          "execution_count": 92
        },
        {
          "output_type": "display_data",
          "data": {
            "image/png": "[encoded data removed]",
            "text/plain": [
              "<Figure size 864x1152 with 3 Axes>"
            ]
          },
          "metadata": {
            "tags": [],
            "needs_background": "light"
          }
        }
      ]
    },
    {
      "cell_type": "code",
      "metadata": {
        "colab": {
          "base_uri": "https://localhost:8080/"
        },
        "id": "FjRv_RTgS-MJ",
        "outputId": "0e71e03b-a5d4-415f-dc8d-49f2e0df5aeb"
      },
      "source": [
        "# Computiing Correlation\n",
        "corr = wine_train.corr()\n",
        "corr.loc['quality',:]"
      ],
      "execution_count": null,
      "outputs": [
        {
          "output_type": "execute_result",
          "data": {
            "text/plain": [
              "fixed acidity           0.122488\n",
              "volatile acidity       -0.378372\n",
              "citric acid             0.216115\n",
              "residual sugar          0.005425\n",
              "chlorides              -0.126541\n",
              "free sulfur dioxide    -0.055860\n",
              "total sulfur dioxide   -0.200067\n",
              "density                -0.167091\n",
              "pH                     -0.045185\n",
              "sulphates               0.242596\n",
              "alcohol                 0.472676\n",
              "quality                 1.000000\n",
              "Name: quality, dtype: float64"
            ]
          },
          "metadata": {
            "tags": []
          },
          "execution_count": 93
        }
      ]
    },
    {
      "cell_type": "markdown",
      "metadata": {
        "id": "C5rMB2lBz044"
      },
      "source": [
        "At a first glance the above Correlation between 'Quality' and other columns shows that\n",
        "*residual sugar, chlorides, free sulphur dioxide and pH* \n",
        "have very less influence on target column *Quality*\n",
        "\n",
        "Let's draw a colour heatmap"
      ]
    },
    {
      "cell_type": "code",
      "metadata": {
        "colab": {
          "base_uri": "https://localhost:8080/",
          "height": 638
        },
        "id": "n_hyEg_tVBAH",
        "outputId": "fa7e1b60-e9eb-439b-e75a-a5fe5e3ca250"
      },
      "source": [
        "# Generate a mask for the upper triangle\n",
        "mask = np.triu(np.ones_like(corr, dtype=bool))\n",
        "\n",
        "# Set up the matplotlib figure\n",
        "f, ax = plt.subplots(figsize=(11, 9))\n",
        "\n",
        "# Generate a custom diverging colormap\n",
        "cmap = sns.diverging_palette(230, 20, as_cmap=True)\n",
        "\n",
        "# Draw the heatmap with the mask and correct aspect ratio\n",
        "sns.heatmap(corr, mask=mask, cmap=cmap, vmax=.3, center=0,\n",
        "            square=True, linewidths=.5, cbar_kws={\"shrink\": .5})"
      ],
      "execution_count": null,
      "outputs": [
        {
          "output_type": "execute_result",
          "data": {
            "text/plain": [
              "<matplotlib.axes._subplots.AxesSubplot at 0x7feac8d76780>"
            ]
          },
          "metadata": {
            "tags": []
          },
          "execution_count": 94
        },
        {
          "output_type": "display_data",
          "data": {
            "image/png": "[encoded data removed]",
            "text/plain": [
              "<Figure size 792x648 with 2 Axes>"
            ]
          },
          "metadata": {
            "tags": [],
            "needs_background": "light"
          }
        }
      ]
    },
    {
      "cell_type": "markdown",
      "metadata": {
        "id": "XYSPvaCH3m64"
      },
      "source": [
        "Here we find that \n",
        "* **Residual sugar** shows minimum influence on Quality yet it has strongest *positive* influence on density. This is evident as a higher dense solution will have high *residual sugar*. So, *density* can explain effect of *residual sugar* on the *quality*. Therefore, *Residual Sugar* can safely be removed from predictive analysis as it won't add any information to the analysis.\n",
        "\n",
        "* **Chlorides** shows very low *negative* influence on Target yet it needs to be kept iin analysis as it has consistent effect on all other columns. Therefore *Chlorides* is an integral part of the analysis.\n",
        "\n",
        "* **Free Sulphur Dioxide** shows *positive* influence on *Total Sulphur Dioxide*. This is evident as higher Total Sulphur Dioxide will always increase Free Sulphur Dioxide. Therefore, *Free Sulphur Dioxide* can safely be removed from predictive analysis as it won't add any information to the analysis.\n",
        "\n",
        "* **pH** is a metric of acidity of the solution. It's not independent and cannot be varied on it's own without changing other independent variables. Therefore,*pH* won't add any information to the analysis.\n",
        "\n"
      ]
    },
    {
      "cell_type": "code",
      "metadata": {
        "colab": {
          "base_uri": "https://localhost:8080/",
          "height": 453
        },
        "id": "Yuo5e1d33QrZ",
        "outputId": "61140f7b-8fde-4e0a-c66d-9e552c651ca7"
      },
      "source": [
        "'''\n",
        "# Removing Residual Sugar, Free Sulphur Dioxide and pH from Train data.\n",
        "try:\n",
        "  wine_train_x = wine_train_x.drop(['residual sugar', 'free sulfur dioxide', 'pH'], axis = 1)\n",
        "  \n",
        "  \n",
        "except KeyError:\n",
        "  wine_test_x = wine_test_x.drop(['residual sugar', 'free sulfur dioxide', 'pH'], axis = 1)\n",
        "'''\n",
        "wine_train_x"
      ],
      "execution_count": null,
      "outputs": [
        {
          "output_type": "execute_result",
          "data": {
            "text/html": [
              "<div>\n",
              "<style scoped>\n",
              "    .dataframe tbody tr th:only-of-type {\n",
              "        vertical-align: middle;\n",
              "    }\n",
              "\n",
              "    .dataframe tbody tr th {\n",
              "        vertical-align: top;\n",
              "    }\n",
              "\n",
              "    .dataframe thead th {\n",
              "        text-align: right;\n",
              "    }\n",
              "</style>\n",
              "<table border=\"1\" class=\"dataframe\">\n",
              "  <thead>\n",
              "    <tr style=\"text-align: right;\">\n",
              "      <th></th>\n",
              "      <th>fixed acidity</th>\n",
              "      <th>volatile acidity</th>\n",
              "      <th>citric acid</th>\n",
              "      <th>residual sugar</th>\n",
              "      <th>chlorides</th>\n",
              "      <th>free sulfur dioxide</th>\n",
              "      <th>total sulfur dioxide</th>\n",
              "      <th>density</th>\n",
              "      <th>pH</th>\n",
              "      <th>sulphates</th>\n",
              "      <th>alcohol</th>\n",
              "    </tr>\n",
              "  </thead>\n",
              "  <tbody>\n",
              "    <tr>\n",
              "      <th>493</th>\n",
              "      <td>8.7</td>\n",
              "      <td>0.690</td>\n",
              "      <td>0.31</td>\n",
              "      <td>3.0</td>\n",
              "      <td>0.086</td>\n",
              "      <td>23.0</td>\n",
              "      <td>81.0</td>\n",
              "      <td>1.00020</td>\n",
              "      <td>3.48</td>\n",
              "      <td>0.74</td>\n",
              "      <td>11.6</td>\n",
              "    </tr>\n",
              "    <tr>\n",
              "      <th>354</th>\n",
              "      <td>6.1</td>\n",
              "      <td>0.210</td>\n",
              "      <td>0.40</td>\n",
              "      <td>1.4</td>\n",
              "      <td>0.066</td>\n",
              "      <td>40.5</td>\n",
              "      <td>165.0</td>\n",
              "      <td>0.99120</td>\n",
              "      <td>3.25</td>\n",
              "      <td>0.59</td>\n",
              "      <td>11.9</td>\n",
              "    </tr>\n",
              "    <tr>\n",
              "      <th>342</th>\n",
              "      <td>10.9</td>\n",
              "      <td>0.390</td>\n",
              "      <td>0.47</td>\n",
              "      <td>1.8</td>\n",
              "      <td>0.118</td>\n",
              "      <td>6.0</td>\n",
              "      <td>14.0</td>\n",
              "      <td>0.99820</td>\n",
              "      <td>3.30</td>\n",
              "      <td>0.75</td>\n",
              "      <td>9.8</td>\n",
              "    </tr>\n",
              "    <tr>\n",
              "      <th>834</th>\n",
              "      <td>8.8</td>\n",
              "      <td>0.685</td>\n",
              "      <td>0.26</td>\n",
              "      <td>1.6</td>\n",
              "      <td>0.088</td>\n",
              "      <td>16.0</td>\n",
              "      <td>23.0</td>\n",
              "      <td>0.99694</td>\n",
              "      <td>3.32</td>\n",
              "      <td>0.47</td>\n",
              "      <td>9.4</td>\n",
              "    </tr>\n",
              "    <tr>\n",
              "      <th>705</th>\n",
              "      <td>8.4</td>\n",
              "      <td>1.035</td>\n",
              "      <td>0.15</td>\n",
              "      <td>6.0</td>\n",
              "      <td>0.073</td>\n",
              "      <td>11.0</td>\n",
              "      <td>54.0</td>\n",
              "      <td>0.99900</td>\n",
              "      <td>3.37</td>\n",
              "      <td>0.49</td>\n",
              "      <td>9.9</td>\n",
              "    </tr>\n",
              "    <tr>\n",
              "      <th>...</th>\n",
              "      <td>...</td>\n",
              "      <td>...</td>\n",
              "      <td>...</td>\n",
              "      <td>...</td>\n",
              "      <td>...</td>\n",
              "      <td>...</td>\n",
              "      <td>...</td>\n",
              "      <td>...</td>\n",
              "      <td>...</td>\n",
              "      <td>...</td>\n",
              "      <td>...</td>\n",
              "    </tr>\n",
              "    <tr>\n",
              "      <th>1130</th>\n",
              "      <td>9.1</td>\n",
              "      <td>0.600</td>\n",
              "      <td>0.00</td>\n",
              "      <td>1.9</td>\n",
              "      <td>0.058</td>\n",
              "      <td>5.0</td>\n",
              "      <td>10.0</td>\n",
              "      <td>0.99770</td>\n",
              "      <td>3.18</td>\n",
              "      <td>0.63</td>\n",
              "      <td>10.4</td>\n",
              "    </tr>\n",
              "    <tr>\n",
              "      <th>1294</th>\n",
              "      <td>8.2</td>\n",
              "      <td>0.635</td>\n",
              "      <td>0.10</td>\n",
              "      <td>2.1</td>\n",
              "      <td>0.073</td>\n",
              "      <td>25.0</td>\n",
              "      <td>60.0</td>\n",
              "      <td>0.99638</td>\n",
              "      <td>3.29</td>\n",
              "      <td>0.75</td>\n",
              "      <td>10.9</td>\n",
              "    </tr>\n",
              "    <tr>\n",
              "      <th>860</th>\n",
              "      <td>7.2</td>\n",
              "      <td>0.620</td>\n",
              "      <td>0.06</td>\n",
              "      <td>2.7</td>\n",
              "      <td>0.077</td>\n",
              "      <td>15.0</td>\n",
              "      <td>85.0</td>\n",
              "      <td>0.99746</td>\n",
              "      <td>3.51</td>\n",
              "      <td>0.54</td>\n",
              "      <td>9.5</td>\n",
              "    </tr>\n",
              "    <tr>\n",
              "      <th>1459</th>\n",
              "      <td>7.9</td>\n",
              "      <td>0.200</td>\n",
              "      <td>0.35</td>\n",
              "      <td>1.7</td>\n",
              "      <td>0.054</td>\n",
              "      <td>7.0</td>\n",
              "      <td>15.0</td>\n",
              "      <td>0.99458</td>\n",
              "      <td>3.32</td>\n",
              "      <td>0.80</td>\n",
              "      <td>11.9</td>\n",
              "    </tr>\n",
              "    <tr>\n",
              "      <th>1126</th>\n",
              "      <td>5.8</td>\n",
              "      <td>0.290</td>\n",
              "      <td>0.26</td>\n",
              "      <td>1.7</td>\n",
              "      <td>0.063</td>\n",
              "      <td>3.0</td>\n",
              "      <td>11.0</td>\n",
              "      <td>0.99150</td>\n",
              "      <td>3.39</td>\n",
              "      <td>0.54</td>\n",
              "      <td>13.5</td>\n",
              "    </tr>\n",
              "  </tbody>\n",
              "</table>\n",
              "<p>1279 rows × 11 columns</p>\n",
              "</div>"
            ],
            "text/plain": [
              "      fixed acidity  volatile acidity  citric acid  ...    pH  sulphates  alcohol\n",
              "493             8.7             0.690         0.31  ...  3.48       0.74     11.6\n",
              "354             6.1             0.210         0.40  ...  3.25       0.59     11.9\n",
              "342            10.9             0.390         0.47  ...  3.30       0.75      9.8\n",
              "834             8.8             0.685         0.26  ...  3.32       0.47      9.4\n",
              "705             8.4             1.035         0.15  ...  3.37       0.49      9.9\n",
              "...             ...               ...          ...  ...   ...        ...      ...\n",
              "1130            9.1             0.600         0.00  ...  3.18       0.63     10.4\n",
              "1294            8.2             0.635         0.10  ...  3.29       0.75     10.9\n",
              "860             7.2             0.620         0.06  ...  3.51       0.54      9.5\n",
              "1459            7.9             0.200         0.35  ...  3.32       0.80     11.9\n",
              "1126            5.8             0.290         0.26  ...  3.39       0.54     13.5\n",
              "\n",
              "[1279 rows x 11 columns]"
            ]
          },
          "metadata": {
            "tags": []
          },
          "execution_count": 95
        }
      ]
    },
    {
      "cell_type": "markdown",
      "metadata": {
        "id": "1DREB1sEGYHG"
      },
      "source": [
        "## Data PreProcessing"
      ]
    },
    {
      "cell_type": "code",
      "metadata": {
        "colab": {
          "base_uri": "https://localhost:8080/",
          "height": 351
        },
        "id": "RLMS6vNkGXUA",
        "outputId": "91334933-169f-41ae-bb72-f38f381e8cee"
      },
      "source": [
        "# Checking Data Quality\n",
        "wine_train_x.describe()"
      ],
      "execution_count": null,
      "outputs": [
        {
          "output_type": "execute_result",
          "data": {
            "text/html": [
              "<div>\n",
              "<style scoped>\n",
              "    .dataframe tbody tr th:only-of-type {\n",
              "        vertical-align: middle;\n",
              "    }\n",
              "\n",
              "    .dataframe tbody tr th {\n",
              "        vertical-align: top;\n",
              "    }\n",
              "\n",
              "    .dataframe thead th {\n",
              "        text-align: right;\n",
              "    }\n",
              "</style>\n",
              "<table border=\"1\" class=\"dataframe\">\n",
              "  <thead>\n",
              "    <tr style=\"text-align: right;\">\n",
              "      <th></th>\n",
              "      <th>fixed acidity</th>\n",
              "      <th>volatile acidity</th>\n",
              "      <th>citric acid</th>\n",
              "      <th>residual sugar</th>\n",
              "      <th>chlorides</th>\n",
              "      <th>free sulfur dioxide</th>\n",
              "      <th>total sulfur dioxide</th>\n",
              "      <th>density</th>\n",
              "      <th>pH</th>\n",
              "      <th>sulphates</th>\n",
              "      <th>alcohol</th>\n",
              "    </tr>\n",
              "  </thead>\n",
              "  <tbody>\n",
              "    <tr>\n",
              "      <th>count</th>\n",
              "      <td>1279.000000</td>\n",
              "      <td>1279.000000</td>\n",
              "      <td>1279.000000</td>\n",
              "      <td>1279.000000</td>\n",
              "      <td>1279.000000</td>\n",
              "      <td>1279.000000</td>\n",
              "      <td>1279.000000</td>\n",
              "      <td>1279.000000</td>\n",
              "      <td>1279.000000</td>\n",
              "      <td>1279.000000</td>\n",
              "      <td>1279.000000</td>\n",
              "    </tr>\n",
              "    <tr>\n",
              "      <th>mean</th>\n",
              "      <td>8.323690</td>\n",
              "      <td>0.530559</td>\n",
              "      <td>0.272471</td>\n",
              "      <td>2.555473</td>\n",
              "      <td>0.088448</td>\n",
              "      <td>15.876075</td>\n",
              "      <td>46.657154</td>\n",
              "      <td>0.996774</td>\n",
              "      <td>3.311650</td>\n",
              "      <td>0.660023</td>\n",
              "      <td>10.418100</td>\n",
              "    </tr>\n",
              "    <tr>\n",
              "      <th>std</th>\n",
              "      <td>1.724243</td>\n",
              "      <td>0.179275</td>\n",
              "      <td>0.195448</td>\n",
              "      <td>1.435790</td>\n",
              "      <td>0.049332</td>\n",
              "      <td>10.313517</td>\n",
              "      <td>32.941962</td>\n",
              "      <td>0.001856</td>\n",
              "      <td>0.154016</td>\n",
              "      <td>0.174605</td>\n",
              "      <td>1.052694</td>\n",
              "    </tr>\n",
              "    <tr>\n",
              "      <th>min</th>\n",
              "      <td>4.600000</td>\n",
              "      <td>0.120000</td>\n",
              "      <td>0.000000</td>\n",
              "      <td>0.900000</td>\n",
              "      <td>0.012000</td>\n",
              "      <td>1.000000</td>\n",
              "      <td>6.000000</td>\n",
              "      <td>0.990070</td>\n",
              "      <td>2.740000</td>\n",
              "      <td>0.370000</td>\n",
              "      <td>8.400000</td>\n",
              "    </tr>\n",
              "    <tr>\n",
              "      <th>25%</th>\n",
              "      <td>7.100000</td>\n",
              "      <td>0.400000</td>\n",
              "      <td>0.100000</td>\n",
              "      <td>1.900000</td>\n",
              "      <td>0.071000</td>\n",
              "      <td>7.000000</td>\n",
              "      <td>22.000000</td>\n",
              "      <td>0.995655</td>\n",
              "      <td>3.210000</td>\n",
              "      <td>0.550000</td>\n",
              "      <td>9.500000</td>\n",
              "    </tr>\n",
              "    <tr>\n",
              "      <th>50%</th>\n",
              "      <td>7.900000</td>\n",
              "      <td>0.520000</td>\n",
              "      <td>0.260000</td>\n",
              "      <td>2.200000</td>\n",
              "      <td>0.080000</td>\n",
              "      <td>14.000000</td>\n",
              "      <td>38.000000</td>\n",
              "      <td>0.996800</td>\n",
              "      <td>3.310000</td>\n",
              "      <td>0.620000</td>\n",
              "      <td>10.200000</td>\n",
              "    </tr>\n",
              "    <tr>\n",
              "      <th>75%</th>\n",
              "      <td>9.200000</td>\n",
              "      <td>0.640000</td>\n",
              "      <td>0.430000</td>\n",
              "      <td>2.600000</td>\n",
              "      <td>0.091000</td>\n",
              "      <td>21.000000</td>\n",
              "      <td>63.000000</td>\n",
              "      <td>0.997845</td>\n",
              "      <td>3.400000</td>\n",
              "      <td>0.730000</td>\n",
              "      <td>11.100000</td>\n",
              "    </tr>\n",
              "    <tr>\n",
              "      <th>max</th>\n",
              "      <td>15.900000</td>\n",
              "      <td>1.580000</td>\n",
              "      <td>1.000000</td>\n",
              "      <td>15.500000</td>\n",
              "      <td>0.611000</td>\n",
              "      <td>68.000000</td>\n",
              "      <td>289.000000</td>\n",
              "      <td>1.003690</td>\n",
              "      <td>4.010000</td>\n",
              "      <td>2.000000</td>\n",
              "      <td>14.900000</td>\n",
              "    </tr>\n",
              "  </tbody>\n",
              "</table>\n",
              "</div>"
            ],
            "text/plain": [
              "       fixed acidity  volatile acidity  ...    sulphates      alcohol\n",
              "count    1279.000000       1279.000000  ...  1279.000000  1279.000000\n",
              "mean        8.323690          0.530559  ...     0.660023    10.418100\n",
              "std         1.724243          0.179275  ...     0.174605     1.052694\n",
              "min         4.600000          0.120000  ...     0.370000     8.400000\n",
              "25%         7.100000          0.400000  ...     0.550000     9.500000\n",
              "50%         7.900000          0.520000  ...     0.620000    10.200000\n",
              "75%         9.200000          0.640000  ...     0.730000    11.100000\n",
              "max        15.900000          1.580000  ...     2.000000    14.900000\n",
              "\n",
              "[8 rows x 11 columns]"
            ]
          },
          "metadata": {
            "tags": []
          },
          "execution_count": 96
        }
      ]
    },
    {
      "cell_type": "code",
      "metadata": {
        "colab": {
          "base_uri": "https://localhost:8080/"
        },
        "id": "Pt3ksXkBG-Fg",
        "outputId": "9e093d10-9fd8-4dfa-f5c0-1f3ed2f7056d"
      },
      "source": [
        "# Finding if any NA or NULL value is present or not\n",
        "# wine_train_x_na = wine_train_x.notna()\n",
        "for column in wine_train_x.columns:\n",
        "  if wine_train_x[column].isnull().sum() > 0:\n",
        "    print(\"Null Found in Column: \", column)\n",
        "  else:\n",
        "    print(\"NO Null Found in Column: \", column)\n",
        "\n",
        "# Result: No null value\n",
        "\n"
      ],
      "execution_count": null,
      "outputs": [
        {
          "output_type": "stream",
          "text": [
            "NO Null Found in Column:  fixed acidity\n",
            "NO Null Found in Column:  volatile acidity\n",
            "NO Null Found in Column:  citric acid\n",
            "NO Null Found in Column:  residual sugar\n",
            "NO Null Found in Column:  chlorides\n",
            "NO Null Found in Column:  free sulfur dioxide\n",
            "NO Null Found in Column:  total sulfur dioxide\n",
            "NO Null Found in Column:  density\n",
            "NO Null Found in Column:  pH\n",
            "NO Null Found in Column:  sulphates\n",
            "NO Null Found in Column:  alcohol\n"
          ],
          "name": "stdout"
        }
      ]
    },
    {
      "cell_type": "code",
      "metadata": {
        "colab": {
          "base_uri": "https://localhost:8080/"
        },
        "id": "lgdWEfCnOFEi",
        "outputId": "c18cb421-b82a-422b-e450-585883a0da69"
      },
      "source": [
        "# Since it's a classification type,\n",
        "# Normalizing data in each column\n",
        "normal = StandardScaler()\n",
        "normal.fit_transform(wine_train_x)"
      ],
      "execution_count": null,
      "outputs": [
        {
          "output_type": "execute_result",
          "data": {
            "text/plain": [
              "array([[ 0.21833164,  0.88971201,  0.19209222, ...,  1.09349989,\n",
              "         0.45822284,  1.12317723],\n",
              "       [-1.29016623, -1.78878251,  0.65275338, ..., -0.40043872,\n",
              "        -0.40119696,  1.40827174],\n",
              "       [ 1.49475291, -0.78434707,  1.01104539, ..., -0.07566946,\n",
              "         0.51551749, -0.58738978],\n",
              "       ...,\n",
              "       [-0.65195559,  0.49909822, -1.08752211, ...,  1.28836145,\n",
              "        -0.68767023, -0.87248428],\n",
              "       [-0.24582155, -1.84458448,  0.39683051, ...,  0.05423824,\n",
              "         0.80199076,  1.40827174],\n",
              "       [-1.46422367, -1.34236676, -0.06383064, ...,  0.50891521,\n",
              "        -0.68767023,  2.92877575]])"
            ]
          },
          "metadata": {
            "tags": []
          },
          "execution_count": 98
        }
      ]
    },
    {
      "cell_type": "markdown",
      "metadata": {
        "id": "2sZSCH5KTYzs"
      },
      "source": [
        "# Predictive Analysis\n",
        "\n",
        "Random Forest Classifier"
      ]
    },
    {
      "cell_type": "code",
      "metadata": {
        "id": "qOWFni9sS2f-"
      },
      "source": [
        "rfc = RandomForestClassifier()\n",
        "\n",
        "# With Default hyperparameters\n",
        "rfc.fit( wine_train_x, wine_train_y)\n",
        "wine_pred_y = rfc.predict(wine_test_x)"
      ],
      "execution_count": null,
      "outputs": []
    },
    {
      "cell_type": "code",
      "metadata": {
        "colab": {
          "base_uri": "https://localhost:8080/"
        },
        "id": "uTFsk-nxVIYu",
        "outputId": "fa140ce3-ac39-430e-af7e-e50c4313dcf4"
      },
      "source": [
        "# Prediction Score\n",
        "wine_test_y_array = np.asarray(wine_test_y)\n",
        "rfc_report = classification_report(wine_test_y_array,wine_pred_y)\n",
        "print(rfc_report)"
      ],
      "execution_count": null,
      "outputs": [
        {
          "output_type": "stream",
          "text": [
            "              precision    recall  f1-score   support\n",
            "\n",
            "           3       0.00      0.00      0.00         1\n",
            "           4       0.00      0.00      0.00        10\n",
            "           5       0.73      0.77      0.75       130\n",
            "           6       0.66      0.74      0.70       132\n",
            "           7       0.69      0.57      0.62        42\n",
            "           8       0.00      0.00      0.00         5\n",
            "\n",
            "    accuracy                           0.69       320\n",
            "   macro avg       0.35      0.35      0.35       320\n",
            "weighted avg       0.66      0.69      0.67       320\n",
            "\n"
          ],
          "name": "stdout"
        },
        {
          "output_type": "stream",
          "text": [
            "/usr/local/lib/python3.6/dist-packages/sklearn/metrics/_classification.py:1272: UndefinedMetricWarning: Precision and F-score are ill-defined and being set to 0.0 in labels with no predicted samples. Use `zero_division` parameter to control this behavior.\n",
            "  _warn_prf(average, modifier, msg_start, len(result))\n"
          ],
          "name": "stderr"
        }
      ]
    },
    {
      "cell_type": "code",
      "metadata": {
        "colab": {
          "base_uri": "https://localhost:8080/"
        },
        "id": "kGnMx-zAZIJA",
        "outputId": "4d11659b-790e-4b97-9c30-a81076d5cf66"
      },
      "source": [
        "print(confusion_matrix(wine_test_y_array,wine_pred_y, labels = [3,4,5,6,7,8]))"
      ],
      "execution_count": null,
      "outputs": [
        {
          "output_type": "stream",
          "text": [
            "[[  0   0   1   0   0   0]\n",
            " [  0   0   7   3   0   0]\n",
            " [  0   0 100  29   1   0]\n",
            " [  0   0  29  98   5   0]\n",
            " [  0   0   0  18  24   0]\n",
            " [  0   0   0   0   5   0]]\n"
          ],
          "name": "stdout"
        }
      ]
    },
    {
      "cell_type": "code",
      "metadata": {
        "id": "ZiENsHvSnRUK"
      },
      "source": [
        ""
      ],
      "execution_count": null,
      "outputs": []
    }
  ]
}